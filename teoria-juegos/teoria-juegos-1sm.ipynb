{
 "cells": [
  {
   "cell_type": "markdown",
   "id": "51e41046-3a1e-437e-80ed-9a0a2c5257a7",
   "metadata": {},
   "source": [
    "# El juego del SM\n",
    "\n",
    "* *jugadores*: trabajadores($T$), patrones ($P$) y gobierno ($G$). \n",
    "* *acciones*: cada jugador tiene dos acciones, Acuerdo ($A$) o No Acuerdo($NA$) el nuevo SM, $a_i=\\{A, \\text{NA} \\}$ con $i=\\{T, P, G\\}$\n",
    "* *preferencias*: la utilidad de cada jugador $u_i (a_T, a_P, a_G)$ se representan mediante la matriz de pagos "
   ]
  },
  {
   "cell_type": "markdown",
   "id": "48f4245e-de48-4834-9e2b-286da9dee24f",
   "metadata": {},
   "source": [
    "#### Preferencias del Gobierno\n",
    "\n",
    "$$\n",
    "u_G(A, A, A) > u_G(A, NA, A) > u_G(NA, A, A) > u_G(NA, NA, NA)\n",
    "$$\n",
    "\n",
    "$$\n",
    "\\begin{split}\n",
    "u_G(A, A, A) &=3 \\\\\n",
    "u_G(A, NA, A) &=2 \\\\\n",
    "u_G(NA, A, A) &=1 \\\\\n",
    "u_G(NA, NA, NA) &=0\n",
    "\\end{split}\n",
    "$$"
   ]
  },
  {
   "cell_type": "code",
   "execution_count": 1,
   "id": "c3957328-4724-4623-a21f-70a16519266b",
   "metadata": {},
   "outputs": [
    {
     "name": "stderr",
     "output_type": "stream",
     "text": [
      "OMP: Info #271: omp_set_nested routine deprecated, please use omp_set_max_active_levels instead.\n"
     ]
    }
   ],
   "source": [
    "import numpy as np\n",
    "import quantecon.game_theory as gt"
   ]
  },
  {
   "cell_type": "code",
   "execution_count": null,
   "id": "e280b987-80ef-4a0a-862b-55e762373435",
   "metadata": {},
   "outputs": [],
   "source": []
  }
 ],
 "metadata": {
  "kernelspec": {
   "display_name": "Python 3 (ipykernel)",
   "language": "python",
   "name": "python3"
  },
  "language_info": {
   "codemirror_mode": {
    "name": "ipython",
    "version": 3
   },
   "file_extension": ".py",
   "mimetype": "text/x-python",
   "name": "python",
   "nbconvert_exporter": "python",
   "pygments_lexer": "ipython3",
   "version": "3.9.7"
  }
 },
 "nbformat": 4,
 "nbformat_minor": 5
}
