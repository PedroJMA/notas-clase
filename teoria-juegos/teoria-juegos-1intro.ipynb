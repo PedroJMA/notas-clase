{
 "cells": [
  {
   "cell_type": "markdown",
   "id": "a1f84fd0-3adb-4f95-986f-10813f6e3e19",
   "metadata": {},
   "source": [
    "# Introducción a Teoría de Juegos \n",
    "\n",
    "Facultad de Economía, UNAM\n",
    "\n",
    "versión: noviembre 10, 2022. "
   ]
  },
  {
   "cell_type": "markdown",
   "id": "adb45047-2286-43fd-82ac-ffcba8ba0ad7",
   "metadata": {},
   "source": [
    "## Estructura de los temas \n",
    "\n",
    "* Juegos estrátegicos\n",
    "* Equilibrio de Nash \n",
    "* Funciones de mejor respuesta\n",
    "* Estrategias dominantes"
   ]
  },
  {
   "cell_type": "markdown",
   "id": "859a1c71-80e6-411b-819a-fa56d049cc66",
   "metadata": {},
   "source": [
    "### QR\n",
    "Código QR a este jupyter notebook"
   ]
  },
  {
   "cell_type": "code",
   "execution_count": 2,
   "id": "f8e8c56e-adf9-4d54-b7a3-92b57437c98c",
   "metadata": {},
   "outputs": [],
   "source": [
    "import qrcode\n",
    "\n",
    "qr = qrcode.QRCode(\n",
    "    version=1,\n",
    "    error_correction=qrcode.constants.ERROR_CORRECT_L,\n",
    "    box_size=10,\n",
    "    border=4,\n",
    ")\n",
    "qr.add_data(\"https://nbviewer.org/github/PedroJMA/notas-clase/blob/main/teoria-juegos/teoria-juegos-1intro.ipynb\")\n",
    "qr.make(fit=True)\n",
    "img = qr.make_image(fill_color=\"white\", back_color=\"black\")\n",
    "img.save(\"teoria-juegos-1intro.png\")"
   ]
  },
  {
   "cell_type": "markdown",
   "id": "6f6e6589-9c8f-4334-ab21-c07b3761fe7c",
   "metadata": {},
   "source": [
    "![QR a este jupyter notebook](\"teoria-juegos-1intro.png\")"
   ]
  }
 ],
 "metadata": {
  "kernelspec": {
   "display_name": "Python 3 (ipykernel)",
   "language": "python",
   "name": "python3"
  },
  "language_info": {
   "codemirror_mode": {
    "name": "ipython",
    "version": 3
   },
   "file_extension": ".py",
   "mimetype": "text/x-python",
   "name": "python",
   "nbconvert_exporter": "python",
   "pygments_lexer": "ipython3",
   "version": "3.9.7"
  }
 },
 "nbformat": 4,
 "nbformat_minor": 5
}
