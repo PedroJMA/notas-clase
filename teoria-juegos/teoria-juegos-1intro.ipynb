{
 "cells": [
  {
   "cell_type": "markdown",
   "id": "a1f84fd0-3adb-4f95-986f-10813f6e3e19",
   "metadata": {},
   "source": [
    "# Introducción a Teoría de Juegos \n",
    "\n",
    "Facultad de Economía, UNAM\n",
    "\n",
    "versión: noviembre 10, 2022. "
   ]
  },
  {
   "cell_type": "markdown",
   "id": "adb45047-2286-43fd-82ac-ffcba8ba0ad7",
   "metadata": {},
   "source": [
    "## Estructura de los temas \n",
    "\n",
    "* Juegos estrátegicos\n",
    "* Equilibrio de Nash \n",
    "* Funciones de mejor respuesta\n",
    "* Estrategias dominantes"
   ]
  },
  {
   "cell_type": "code",
   "execution_count": null,
   "id": "622f28c7-0b0e-4fdb-9712-b74a3544872a",
   "metadata": {},
   "outputs": [],
   "source": []
  }
 ],
 "metadata": {
  "kernelspec": {
   "display_name": "Python 3 (ipykernel)",
   "language": "python",
   "name": "python3"
  },
  "language_info": {
   "codemirror_mode": {
    "name": "ipython",
    "version": 3
   },
   "file_extension": ".py",
   "mimetype": "text/x-python",
   "name": "python",
   "nbconvert_exporter": "python",
   "pygments_lexer": "ipython3",
   "version": "3.9.7"
  }
 },
 "nbformat": 4,
 "nbformat_minor": 5
}
